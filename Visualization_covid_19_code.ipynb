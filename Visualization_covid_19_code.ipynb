{
  "nbformat": 4,
  "nbformat_minor": 0,
  "metadata": {
    "colab": {
      "name": "Visualization covid 19 code.ipynb",
      "provenance": [],
      "authorship_tag": "ABX9TyNGLteRlEl8d19uTEIIDXr8",
      "include_colab_link": true
    },
    "kernelspec": {
      "name": "python3",
      "display_name": "Python 3"
    }
  },
  "cells": [
    {
      "cell_type": "markdown",
      "metadata": {
        "id": "view-in-github",
        "colab_type": "text"
      },
      "source": [
        "<a href=\"https://colab.research.google.com/github/KhuyenLE-maths/Visualization-covid-19/blob/main/Visualization_covid_19_code.ipynb\" target=\"_parent\"><img src=\"https://colab.research.google.com/assets/colab-badge.svg\" alt=\"Open In Colab\"/></a>"
      ]
    },
    {
      "cell_type": "code",
      "metadata": {
        "colab": {
          "base_uri": "https://localhost:8080/"
        },
        "id": "e4LgpL8dCYaK",
        "outputId": "b95913f4-4d3c-49f7-e86c-bb91f375efbe"
      },
      "source": [
        "from google.colab import drive\n",
        "drive.mount('/content/drive/')"
      ],
      "execution_count": 1,
      "outputs": [
        {
          "output_type": "stream",
          "text": [
            "Drive already mounted at /content/drive/; to attempt to forcibly remount, call drive.mount(\"/content/drive/\", force_remount=True).\n"
          ],
          "name": "stdout"
        }
      ]
    },
    {
      "cell_type": "code",
      "metadata": {
        "id": "Dlw4iULUCeNX"
      },
      "source": [
        "import os \n",
        "os.chdir('/content/drive/MyDrive/Visualization Covid-19/')"
      ],
      "execution_count": 2,
      "outputs": []
    },
    {
      "cell_type": "code",
      "metadata": {
        "colab": {
          "base_uri": "https://localhost:8080/"
        },
        "id": "hHtgr4tvNlmj",
        "outputId": "150b81ce-ce95-4a8c-d5d7-5b8f4b7d7877"
      },
      "source": [
        "os.listdir(os.getcwd())"
      ],
      "execution_count": 3,
      "outputs": [
        {
          "output_type": "execute_result",
          "data": {
            "text/plain": [
              "['datasets', 'Visualization covid 19 code.ipynb']"
            ]
          },
          "metadata": {
            "tags": []
          },
          "execution_count": 3
        }
      ]
    },
    {
      "cell_type": "markdown",
      "metadata": {
        "id": "JFg28wK1Bzi6"
      },
      "source": [
        "## 1. From epidemic to pandemic\n",
        "<p><img style=\"float: left; margin:5px 20px 5px 1px; width:40%\" src=\"https://www.nps.gov/aboutus/news/images/CDC-coronavirus-image-23311-for-web.jpg?maxwidth=650&autorotate=false\"></p>\n",
        "<p>In December 2019, COVID-19 coronavirus was first identified in the Wuhan region of China. By March 11, 2020, the World Health Organization (WHO) categorized the COVID-19 outbreak as a pandemic. A lot has happened in the months in between with major outbreaks in Iran, South Korea, and Italy. </p>\n",
        "<p>We know that COVID-19 spreads through respiratory droplets, such as through coughing, sneezing, or speaking. But, how quickly did the virus spread across the globe? And, can we see any effect from country-wide policies, like shutdowns and quarantines? </p>\n",
        "<p>Fortunately, organizations around the world have been collecting data so that governments can monitor and learn from this pandemic. Notably, the Johns Hopkins University Center for Systems Science and Engineering created a <a href=\"https://github.com/RamiKrispin/coronavirus\">publicly available data repository</a> to consolidate this data from sources like the WHO, the Centers for Disease Control and Prevention (CDC), and the Ministry of Health from multiple countries.</p>\n",
        "<p>In this notebook, you will visualize COVID-19 data from the first several weeks of the outbreak to see at what point this virus became a global pandemic.</p>\n",
        "<p><em>Please note that information and data regarding COVID-19 is frequently being updated. The data used in this project was pulled on March 17, 2020, and should not be considered to be the most up to date data available.</em></p>"
      ]
    },
    {
      "cell_type": "markdown",
      "metadata": {
        "id": "P4Xbc01_ONIO"
      },
      "source": [
        "Libraries "
      ]
    },
    {
      "cell_type": "code",
      "metadata": {
        "id": "Bg-84Ei-BsEH"
      },
      "source": [
        "import pandas as pd"
      ],
      "execution_count": 4,
      "outputs": []
    },
    {
      "cell_type": "code",
      "metadata": {
        "colab": {
          "base_uri": "https://localhost:8080/",
          "height": 198
        },
        "id": "Uwt99BrpORQS",
        "outputId": "1ef9d2cf-17c7-4ae2-fc0c-0c346880f75e"
      },
      "source": [
        "cases_worldwide = pd.read_csv('datasets/confirmed_cases_worldwide.csv')\n",
        "cases_worldwide.head()"
      ],
      "execution_count": 5,
      "outputs": [
        {
          "output_type": "execute_result",
          "data": {
            "text/html": [
              "<div>\n",
              "<style scoped>\n",
              "    .dataframe tbody tr th:only-of-type {\n",
              "        vertical-align: middle;\n",
              "    }\n",
              "\n",
              "    .dataframe tbody tr th {\n",
              "        vertical-align: top;\n",
              "    }\n",
              "\n",
              "    .dataframe thead th {\n",
              "        text-align: right;\n",
              "    }\n",
              "</style>\n",
              "<table border=\"1\" class=\"dataframe\">\n",
              "  <thead>\n",
              "    <tr style=\"text-align: right;\">\n",
              "      <th></th>\n",
              "      <th>date</th>\n",
              "      <th>cum_cases</th>\n",
              "    </tr>\n",
              "  </thead>\n",
              "  <tbody>\n",
              "    <tr>\n",
              "      <th>0</th>\n",
              "      <td>2020-01-22</td>\n",
              "      <td>555</td>\n",
              "    </tr>\n",
              "    <tr>\n",
              "      <th>1</th>\n",
              "      <td>2020-01-23</td>\n",
              "      <td>653</td>\n",
              "    </tr>\n",
              "    <tr>\n",
              "      <th>2</th>\n",
              "      <td>2020-01-24</td>\n",
              "      <td>941</td>\n",
              "    </tr>\n",
              "    <tr>\n",
              "      <th>3</th>\n",
              "      <td>2020-01-25</td>\n",
              "      <td>1434</td>\n",
              "    </tr>\n",
              "    <tr>\n",
              "      <th>4</th>\n",
              "      <td>2020-01-26</td>\n",
              "      <td>2118</td>\n",
              "    </tr>\n",
              "  </tbody>\n",
              "</table>\n",
              "</div>"
            ],
            "text/plain": [
              "         date  cum_cases\n",
              "0  2020-01-22        555\n",
              "1  2020-01-23        653\n",
              "2  2020-01-24        941\n",
              "3  2020-01-25       1434\n",
              "4  2020-01-26       2118"
            ]
          },
          "metadata": {
            "tags": []
          },
          "execution_count": 5
        }
      ]
    },
    {
      "cell_type": "code",
      "metadata": {
        "colab": {
          "base_uri": "https://localhost:8080/"
        },
        "id": "BAnjzYa1ORS7",
        "outputId": "77ec440d-cbed-462a-d1aa-7238178d86db"
      },
      "source": [
        "print(cases_worldwide.shape)"
      ],
      "execution_count": 6,
      "outputs": [
        {
          "output_type": "stream",
          "text": [
            "(56, 2)\n"
          ],
          "name": "stdout"
        }
      ]
    },
    {
      "cell_type": "markdown",
      "metadata": {
        "id": "mVmpd_D2QBos"
      },
      "source": [
        "## 2. Visualize the confirmed cases thoughout the world "
      ]
    },
    {
      "cell_type": "code",
      "metadata": {
        "id": "nmnHgftyRl_J"
      },
      "source": [
        "import matplotlib.pyplot as plt\n",
        "from matplotlib.dates import DateFormatter\n",
        "import matplotlib.dates as mdates"
      ],
      "execution_count": 7,
      "outputs": []
    },
    {
      "cell_type": "code",
      "metadata": {
        "colab": {
          "base_uri": "https://localhost:8080/",
          "height": 450
        },
        "id": "fXeluORtORYF",
        "outputId": "215e0d79-97fa-4989-c85c-b8deef713e5b"
      },
      "source": [
        "fig, ax = plt.subplots(figsize = (20,6))\n",
        "ax.plot(cases_worldwide['date'], cases_worldwide['cum_cases'])\n",
        "plt.xlabel('Date', fontsize = 16)\n",
        "plt.ylabel('Number of cases', fontsize = 16)\n",
        "plt.title('Number of cases by date', fontsize = 20)\n",
        "\n",
        "plt.setp(ax.get_xticklabels(), rotation=45)\n",
        "\n",
        "plt.show()\n"
      ],
      "execution_count": 8,
      "outputs": [
        {
          "output_type": "display_data",
          "data": {
            "image/png": "[encoded data removed]",
            "text/plain": [
              "<Figure size 1440x432 with 1 Axes>"
            ]
          },
          "metadata": {
            "tags": [],
            "needs_background": "light"
          }
        }
      ]
    },
    {
      "cell_type": "markdown",
      "metadata": {
        "id": "gBUW345X30oW"
      },
      "source": [
        "The y-axis in that plot is pretty scary, with the total number of confirmed cases around the world approaching 200,000. Beyond that, some weird things are happening: there is an odd jump in mid February, then the rate of new cases slows down for a while, then speeds up again in March. We need to dig deeper to see what is happening."
      ]
    },
    {
      "cell_type": "markdown",
      "metadata": {
        "id": "eiWuBRKA34Qq"
      },
      "source": [
        "## 3. China compared to the rest of the world\n",
        "Early on in the outbreak, the COVID-19 cases were primarily centered in China. Let's plot confirmed COVID-19 cases in China and the rest of the world separately to see if it gives us any insight."
      ]
    },
    {
      "cell_type": "code",
      "metadata": {
        "colab": {
          "base_uri": "https://localhost:8080/",
          "height": 407
        },
        "id": "-4R57VbzORae",
        "outputId": "07096da0-dc62-473a-915d-89f5c9795951"
      },
      "source": [
        "cases_china_world = pd.read_csv('datasets/confirmed_cases_china_vs_world.csv')\n",
        "cases_china_world"
      ],
      "execution_count": 9,
      "outputs": [
        {
          "output_type": "execute_result",
          "data": {
            "text/html": [
              "<div>\n",
              "<style scoped>\n",
              "    .dataframe tbody tr th:only-of-type {\n",
              "        vertical-align: middle;\n",
              "    }\n",
              "\n",
              "    .dataframe tbody tr th {\n",
              "        vertical-align: top;\n",
              "    }\n",
              "\n",
              "    .dataframe thead th {\n",
              "        text-align: right;\n",
              "    }\n",
              "</style>\n",
              "<table border=\"1\" class=\"dataframe\">\n",
              "  <thead>\n",
              "    <tr style=\"text-align: right;\">\n",
              "      <th></th>\n",
              "      <th>is_china</th>\n",
              "      <th>date</th>\n",
              "      <th>cases</th>\n",
              "      <th>cum_cases</th>\n",
              "    </tr>\n",
              "  </thead>\n",
              "  <tbody>\n",
              "    <tr>\n",
              "      <th>0</th>\n",
              "      <td>China</td>\n",
              "      <td>2020-01-22</td>\n",
              "      <td>548</td>\n",
              "      <td>548</td>\n",
              "    </tr>\n",
              "    <tr>\n",
              "      <th>1</th>\n",
              "      <td>China</td>\n",
              "      <td>2020-01-23</td>\n",
              "      <td>95</td>\n",
              "      <td>643</td>\n",
              "    </tr>\n",
              "    <tr>\n",
              "      <th>2</th>\n",
              "      <td>China</td>\n",
              "      <td>2020-01-24</td>\n",
              "      <td>277</td>\n",
              "      <td>920</td>\n",
              "    </tr>\n",
              "    <tr>\n",
              "      <th>3</th>\n",
              "      <td>China</td>\n",
              "      <td>2020-01-25</td>\n",
              "      <td>486</td>\n",
              "      <td>1406</td>\n",
              "    </tr>\n",
              "    <tr>\n",
              "      <th>4</th>\n",
              "      <td>China</td>\n",
              "      <td>2020-01-26</td>\n",
              "      <td>669</td>\n",
              "      <td>2075</td>\n",
              "    </tr>\n",
              "    <tr>\n",
              "      <th>...</th>\n",
              "      <td>...</td>\n",
              "      <td>...</td>\n",
              "      <td>...</td>\n",
              "      <td>...</td>\n",
              "    </tr>\n",
              "    <tr>\n",
              "      <th>107</th>\n",
              "      <td>Not China</td>\n",
              "      <td>2020-03-13</td>\n",
              "      <td>16837</td>\n",
              "      <td>64248</td>\n",
              "    </tr>\n",
              "    <tr>\n",
              "      <th>108</th>\n",
              "      <td>Not China</td>\n",
              "      <td>2020-03-14</td>\n",
              "      <td>10872</td>\n",
              "      <td>75120</td>\n",
              "    </tr>\n",
              "    <tr>\n",
              "      <th>109</th>\n",
              "      <td>Not China</td>\n",
              "      <td>2020-03-15</td>\n",
              "      <td>11326</td>\n",
              "      <td>86446</td>\n",
              "    </tr>\n",
              "    <tr>\n",
              "      <th>110</th>\n",
              "      <td>Not China</td>\n",
              "      <td>2020-03-16</td>\n",
              "      <td>14052</td>\n",
              "      <td>100498</td>\n",
              "    </tr>\n",
              "    <tr>\n",
              "      <th>111</th>\n",
              "      <td>Not China</td>\n",
              "      <td>2020-03-17</td>\n",
              "      <td>15590</td>\n",
              "      <td>116088</td>\n",
              "    </tr>\n",
              "  </tbody>\n",
              "</table>\n",
              "<p>112 rows × 4 columns</p>\n",
              "</div>"
            ],
            "text/plain": [
              "      is_china        date  cases  cum_cases\n",
              "0        China  2020-01-22    548        548\n",
              "1        China  2020-01-23     95        643\n",
              "2        China  2020-01-24    277        920\n",
              "3        China  2020-01-25    486       1406\n",
              "4        China  2020-01-26    669       2075\n",
              "..         ...         ...    ...        ...\n",
              "107  Not China  2020-03-13  16837      64248\n",
              "108  Not China  2020-03-14  10872      75120\n",
              "109  Not China  2020-03-15  11326      86446\n",
              "110  Not China  2020-03-16  14052     100498\n",
              "111  Not China  2020-03-17  15590     116088\n",
              "\n",
              "[112 rows x 4 columns]"
            ]
          },
          "metadata": {
            "tags": []
          },
          "execution_count": 9
        }
      ]
    },
    {
      "cell_type": "code",
      "metadata": {
        "colab": {
          "base_uri": "https://localhost:8080/"
        },
        "id": "TVrfephJ5VIH",
        "outputId": "1a99867f-4786-4ae6-f88b-1ac97e33eac5"
      },
      "source": [
        "set(cases_china_world['is_china'])"
      ],
      "execution_count": 10,
      "outputs": [
        {
          "output_type": "execute_result",
          "data": {
            "text/plain": [
              "{'China', 'Not China'}"
            ]
          },
          "metadata": {
            "tags": []
          },
          "execution_count": 10
        }
      ]
    },
    {
      "cell_type": "markdown",
      "metadata": {
        "id": "tr3Y589j6Xr_"
      },
      "source": [
        "Extracting from the data frame cases_china_world only the cases which belong to China "
      ]
    },
    {
      "cell_type": "code",
      "metadata": {
        "id": "C9_05YpxB6mL"
      },
      "source": [
        "cases_china = cases_china_world[cases_china_world['is_china'] == 'China']"
      ],
      "execution_count": 11,
      "outputs": []
    },
    {
      "cell_type": "code",
      "metadata": {
        "colab": {
          "base_uri": "https://localhost:8080/"
        },
        "id": "MylSzNZaCDof",
        "outputId": "b952b9c8-4f07-414b-9da9-3f83d461a9e2"
      },
      "source": [
        "print(cases_china.head())\n",
        "print(cases_china.shape)"
      ],
      "execution_count": 12,
      "outputs": [
        {
          "output_type": "stream",
          "text": [
            "  is_china        date  cases  cum_cases\n",
            "0    China  2020-01-22    548        548\n",
            "1    China  2020-01-23     95        643\n",
            "2    China  2020-01-24    277        920\n",
            "3    China  2020-01-25    486       1406\n",
            "4    China  2020-01-26    669       2075\n",
            "(56, 4)\n"
          ],
          "name": "stdout"
        }
      ]
    },
    {
      "cell_type": "markdown",
      "metadata": {
        "id": "XKbU0tkS6j6r"
      },
      "source": [
        "Extracting from the data frame cases_china_world the cases which belong to the world"
      ]
    },
    {
      "cell_type": "code",
      "metadata": {
        "id": "ZmclBjBvCaLX"
      },
      "source": [
        "cases_world = cases_china_world[cases_china_world['is_china'] == 'Not China']"
      ],
      "execution_count": 13,
      "outputs": []
    },
    {
      "cell_type": "code",
      "metadata": {
        "colab": {
          "base_uri": "https://localhost:8080/"
        },
        "id": "FmIZhACvCaI7",
        "outputId": "5ca34d87-91b7-4a2d-830b-296e0128b190"
      },
      "source": [
        "print(cases_world.head())\n",
        "print(cases_world.shape)"
      ],
      "execution_count": 14,
      "outputs": [
        {
          "output_type": "stream",
          "text": [
            "     is_china        date  cases  cum_cases\n",
            "56  Not China  2020-01-22      7          7\n",
            "57  Not China  2020-01-23      3         10\n",
            "58  Not China  2020-01-24     11         21\n",
            "59  Not China  2020-01-25      7         28\n",
            "60  Not China  2020-01-26     15         43\n",
            "(56, 4)\n"
          ],
          "name": "stdout"
        }
      ]
    },
    {
      "cell_type": "code",
      "metadata": {
        "colab": {
          "base_uri": "https://localhost:8080/",
          "height": 450
        },
        "id": "bPgSfwH24QyT",
        "outputId": "9b20af65-2a89-4dac-fca6-c8a9f301827d"
      },
      "source": [
        "fig, ax = plt.subplots(figsize = (20,6))\n",
        "ax.plot(cases_china['date'], cases_china['cum_cases'], label = 'China', color = 'red')\n",
        "ax.plot(cases_world['date'], cases_world['cum_cases'], label = 'World', color = 'blue')\n",
        "plt.xlabel('Date', fontsize = 16)\n",
        "plt.ylabel('Number of confirmed cases', fontsize = 16)\n",
        "plt.title('Number of cases by date', fontsize = 20)\n",
        "plt.legend()\n",
        "plt.setp(ax.get_xticklabels(), rotation=45)\n",
        "\n",
        "plt.show()\n"
      ],
      "execution_count": 15,
      "outputs": [
        {
          "output_type": "display_data",
          "data": {
            "image/png": "[encoded data removed]",
            "text/plain": [
              "<Figure size 1440x432 with 1 Axes>"
            ]
          },
          "metadata": {
            "tags": [],
            "needs_background": "light"
          }
        }
      ]
    },
    {
      "cell_type": "markdown",
      "metadata": {
        "id": "MHPbnco6HOrR"
      },
      "source": [
        "## 4. Number of confirmed cases by countries "
      ]
    },
    {
      "cell_type": "code",
      "metadata": {
        "id": "58ZMuS45ORcO"
      },
      "source": [
        "cases_by_country = pd.read_csv('datasets/confirmed_cases_by_country.csv')"
      ],
      "execution_count": 16,
      "outputs": []
    },
    {
      "cell_type": "code",
      "metadata": {
        "colab": {
          "base_uri": "https://localhost:8080/",
          "height": 407
        },
        "id": "YOz_7cNsOReR",
        "outputId": "259ff5f5-f20e-432a-df0d-3071f4d3336a"
      },
      "source": [
        "cases_by_country"
      ],
      "execution_count": 17,
      "outputs": [
        {
          "output_type": "execute_result",
          "data": {
            "text/html": [
              "<div>\n",
              "<style scoped>\n",
              "    .dataframe tbody tr th:only-of-type {\n",
              "        vertical-align: middle;\n",
              "    }\n",
              "\n",
              "    .dataframe tbody tr th {\n",
              "        vertical-align: top;\n",
              "    }\n",
              "\n",
              "    .dataframe thead th {\n",
              "        text-align: right;\n",
              "    }\n",
              "</style>\n",
              "<table border=\"1\" class=\"dataframe\">\n",
              "  <thead>\n",
              "    <tr style=\"text-align: right;\">\n",
              "      <th></th>\n",
              "      <th>country</th>\n",
              "      <th>province</th>\n",
              "      <th>date</th>\n",
              "      <th>cases</th>\n",
              "      <th>cum_cases</th>\n",
              "    </tr>\n",
              "  </thead>\n",
              "  <tbody>\n",
              "    <tr>\n",
              "      <th>0</th>\n",
              "      <td>Afghanistan</td>\n",
              "      <td>NaN</td>\n",
              "      <td>2020-01-22</td>\n",
              "      <td>0</td>\n",
              "      <td>0</td>\n",
              "    </tr>\n",
              "    <tr>\n",
              "      <th>1</th>\n",
              "      <td>Albania</td>\n",
              "      <td>NaN</td>\n",
              "      <td>2020-01-22</td>\n",
              "      <td>0</td>\n",
              "      <td>0</td>\n",
              "    </tr>\n",
              "    <tr>\n",
              "      <th>2</th>\n",
              "      <td>Algeria</td>\n",
              "      <td>NaN</td>\n",
              "      <td>2020-01-22</td>\n",
              "      <td>0</td>\n",
              "      <td>0</td>\n",
              "    </tr>\n",
              "    <tr>\n",
              "      <th>3</th>\n",
              "      <td>Andorra</td>\n",
              "      <td>NaN</td>\n",
              "      <td>2020-01-22</td>\n",
              "      <td>0</td>\n",
              "      <td>0</td>\n",
              "    </tr>\n",
              "    <tr>\n",
              "      <th>4</th>\n",
              "      <td>Antigua and Barbuda</td>\n",
              "      <td>NaN</td>\n",
              "      <td>2020-01-22</td>\n",
              "      <td>0</td>\n",
              "      <td>0</td>\n",
              "    </tr>\n",
              "    <tr>\n",
              "      <th>...</th>\n",
              "      <td>...</td>\n",
              "      <td>...</td>\n",
              "      <td>...</td>\n",
              "      <td>...</td>\n",
              "      <td>...</td>\n",
              "    </tr>\n",
              "    <tr>\n",
              "      <th>13267</th>\n",
              "      <td>US</td>\n",
              "      <td>Washington, D.C.</td>\n",
              "      <td>2020-03-17</td>\n",
              "      <td>0</td>\n",
              "      <td>6387</td>\n",
              "    </tr>\n",
              "    <tr>\n",
              "      <th>13268</th>\n",
              "      <td>US</td>\n",
              "      <td>West Virginia</td>\n",
              "      <td>2020-03-17</td>\n",
              "      <td>1</td>\n",
              "      <td>6388</td>\n",
              "    </tr>\n",
              "    <tr>\n",
              "      <th>13269</th>\n",
              "      <td>Australia</td>\n",
              "      <td>Western Australia</td>\n",
              "      <td>2020-03-17</td>\n",
              "      <td>3</td>\n",
              "      <td>452</td>\n",
              "    </tr>\n",
              "    <tr>\n",
              "      <th>13270</th>\n",
              "      <td>US</td>\n",
              "      <td>Wisconsin</td>\n",
              "      <td>2020-03-17</td>\n",
              "      <td>25</td>\n",
              "      <td>6413</td>\n",
              "    </tr>\n",
              "    <tr>\n",
              "      <th>13271</th>\n",
              "      <td>US</td>\n",
              "      <td>Wyoming</td>\n",
              "      <td>2020-03-17</td>\n",
              "      <td>8</td>\n",
              "      <td>6421</td>\n",
              "    </tr>\n",
              "  </tbody>\n",
              "</table>\n",
              "<p>13272 rows × 5 columns</p>\n",
              "</div>"
            ],
            "text/plain": [
              "                   country           province        date  cases  cum_cases\n",
              "0              Afghanistan                NaN  2020-01-22      0          0\n",
              "1                  Albania                NaN  2020-01-22      0          0\n",
              "2                  Algeria                NaN  2020-01-22      0          0\n",
              "3                  Andorra                NaN  2020-01-22      0          0\n",
              "4      Antigua and Barbuda                NaN  2020-01-22      0          0\n",
              "...                    ...                ...         ...    ...        ...\n",
              "13267                   US   Washington, D.C.  2020-03-17      0       6387\n",
              "13268                   US      West Virginia  2020-03-17      1       6388\n",
              "13269            Australia  Western Australia  2020-03-17      3        452\n",
              "13270                   US          Wisconsin  2020-03-17     25       6413\n",
              "13271                   US            Wyoming  2020-03-17      8       6421\n",
              "\n",
              "[13272 rows x 5 columns]"
            ]
          },
          "metadata": {
            "tags": []
          },
          "execution_count": 17
        }
      ]
    },
    {
      "cell_type": "markdown",
      "metadata": {
        "id": "uZQ6eTFN-qYE"
      },
      "source": [
        "Group the data frame above by countries "
      ]
    },
    {
      "cell_type": "code",
      "metadata": {
        "id": "4hKPUgZPORgN"
      },
      "source": [
        "cases_country_gp = cases_by_country.groupby('country').sum()"
      ],
      "execution_count": 18,
      "outputs": []
    },
    {
      "cell_type": "code",
      "metadata": {
        "colab": {
          "base_uri": "https://localhost:8080/",
          "height": 437
        },
        "id": "S8fXXhVoItFU",
        "outputId": "809865e5-0dea-4766-8c8f-b52f35962d94"
      },
      "source": [
        "cases_country_gp"
      ],
      "execution_count": 19,
      "outputs": [
        {
          "output_type": "execute_result",
          "data": {
            "text/html": [
              "<div>\n",
              "<style scoped>\n",
              "    .dataframe tbody tr th:only-of-type {\n",
              "        vertical-align: middle;\n",
              "    }\n",
              "\n",
              "    .dataframe tbody tr th {\n",
              "        vertical-align: top;\n",
              "    }\n",
              "\n",
              "    .dataframe thead th {\n",
              "        text-align: right;\n",
              "    }\n",
              "</style>\n",
              "<table border=\"1\" class=\"dataframe\">\n",
              "  <thead>\n",
              "    <tr style=\"text-align: right;\">\n",
              "      <th></th>\n",
              "      <th>cases</th>\n",
              "      <th>cum_cases</th>\n",
              "    </tr>\n",
              "    <tr>\n",
              "      <th>country</th>\n",
              "      <th></th>\n",
              "      <th></th>\n",
              "    </tr>\n",
              "  </thead>\n",
              "  <tbody>\n",
              "    <tr>\n",
              "      <th>Afghanistan</th>\n",
              "      <td>22</td>\n",
              "      <td>117</td>\n",
              "    </tr>\n",
              "    <tr>\n",
              "      <th>Albania</th>\n",
              "      <td>55</td>\n",
              "      <td>266</td>\n",
              "    </tr>\n",
              "    <tr>\n",
              "      <th>Algeria</th>\n",
              "      <td>60</td>\n",
              "      <td>400</td>\n",
              "    </tr>\n",
              "    <tr>\n",
              "      <th>Andorra</th>\n",
              "      <td>39</td>\n",
              "      <td>55</td>\n",
              "    </tr>\n",
              "    <tr>\n",
              "      <th>Antigua and Barbuda</th>\n",
              "      <td>1</td>\n",
              "      <td>5</td>\n",
              "    </tr>\n",
              "    <tr>\n",
              "      <th>...</th>\n",
              "      <td>...</td>\n",
              "      <td>...</td>\n",
              "    </tr>\n",
              "    <tr>\n",
              "      <th>United Kingdom</th>\n",
              "      <td>1960</td>\n",
              "      <td>31914</td>\n",
              "    </tr>\n",
              "    <tr>\n",
              "      <th>Uruguay</th>\n",
              "      <td>29</td>\n",
              "      <td>45</td>\n",
              "    </tr>\n",
              "    <tr>\n",
              "      <th>Uzbekistan</th>\n",
              "      <td>10</td>\n",
              "      <td>17</td>\n",
              "    </tr>\n",
              "    <tr>\n",
              "      <th>Venezuela</th>\n",
              "      <td>33</td>\n",
              "      <td>62</td>\n",
              "    </tr>\n",
              "    <tr>\n",
              "      <th>Vietnam</th>\n",
              "      <td>66</td>\n",
              "      <td>981</td>\n",
              "    </tr>\n",
              "  </tbody>\n",
              "</table>\n",
              "<p>151 rows × 2 columns</p>\n",
              "</div>"
            ],
            "text/plain": [
              "                     cases  cum_cases\n",
              "country                              \n",
              "Afghanistan             22        117\n",
              "Albania                 55        266\n",
              "Algeria                 60        400\n",
              "Andorra                 39         55\n",
              "Antigua and Barbuda      1          5\n",
              "...                    ...        ...\n",
              "United Kingdom        1960      31914\n",
              "Uruguay                 29         45\n",
              "Uzbekistan              10         17\n",
              "Venezuela               33         62\n",
              "Vietnam                 66        981\n",
              "\n",
              "[151 rows x 2 columns]"
            ]
          },
          "metadata": {
            "tags": []
          },
          "execution_count": 19
        }
      ]
    },
    {
      "cell_type": "markdown",
      "metadata": {
        "id": "sxnfAvajEL1i"
      },
      "source": [
        "Number of countries "
      ]
    },
    {
      "cell_type": "code",
      "metadata": {
        "colab": {
          "base_uri": "https://localhost:8080/"
        },
        "id": "Tq2g_NVYELc7",
        "outputId": "05eba54e-1059-4ba7-a7ab-b1fa2ad91f0c"
      },
      "source": [
        "print(len(cases_country_gp))"
      ],
      "execution_count": 20,
      "outputs": [
        {
          "output_type": "stream",
          "text": [
            "151\n"
          ],
          "name": "stdout"
        }
      ]
    },
    {
      "cell_type": "markdown",
      "metadata": {
        "id": "L9GMU5xzMRp3"
      },
      "source": [
        "Sort all countries by descending order of case number "
      ]
    },
    {
      "cell_type": "code",
      "metadata": {
        "id": "moMapgyEIk5f"
      },
      "source": [
        "cases_country_gp_sort = cases_country_gp.sort_values(by = 'cum_cases', ascending= False)"
      ],
      "execution_count": 21,
      "outputs": []
    },
    {
      "cell_type": "code",
      "metadata": {
        "colab": {
          "base_uri": "https://localhost:8080/",
          "height": 437
        },
        "id": "1mBpJztB-CgZ",
        "outputId": "79328b3e-f62c-4283-e99f-a6ba5c40c87c"
      },
      "source": [
        "cases_country_gp_sort "
      ],
      "execution_count": 22,
      "outputs": [
        {
          "output_type": "execute_result",
          "data": {
            "text/html": [
              "<div>\n",
              "<style scoped>\n",
              "    .dataframe tbody tr th:only-of-type {\n",
              "        vertical-align: middle;\n",
              "    }\n",
              "\n",
              "    .dataframe tbody tr th {\n",
              "        vertical-align: top;\n",
              "    }\n",
              "\n",
              "    .dataframe thead th {\n",
              "        text-align: right;\n",
              "    }\n",
              "</style>\n",
              "<table border=\"1\" class=\"dataframe\">\n",
              "  <thead>\n",
              "    <tr style=\"text-align: right;\">\n",
              "      <th></th>\n",
              "      <th>cases</th>\n",
              "      <th>cum_cases</th>\n",
              "    </tr>\n",
              "    <tr>\n",
              "      <th>country</th>\n",
              "      <th></th>\n",
              "      <th></th>\n",
              "    </tr>\n",
              "  </thead>\n",
              "  <tbody>\n",
              "    <tr>\n",
              "      <th>US</th>\n",
              "      <td>6421</td>\n",
              "      <td>1313061</td>\n",
              "    </tr>\n",
              "    <tr>\n",
              "      <th>France</th>\n",
              "      <td>7699</td>\n",
              "      <td>312488</td>\n",
              "    </tr>\n",
              "    <tr>\n",
              "      <th>Italy</th>\n",
              "      <td>31506</td>\n",
              "      <td>202336</td>\n",
              "    </tr>\n",
              "    <tr>\n",
              "      <th>Iran</th>\n",
              "      <td>16169</td>\n",
              "      <td>133472</td>\n",
              "    </tr>\n",
              "    <tr>\n",
              "      <th>Korea, South</th>\n",
              "      <td>8320</td>\n",
              "      <td>129476</td>\n",
              "    </tr>\n",
              "    <tr>\n",
              "      <th>...</th>\n",
              "      <td>...</td>\n",
              "      <td>...</td>\n",
              "    </tr>\n",
              "    <tr>\n",
              "      <th>Montenegro</th>\n",
              "      <td>2</td>\n",
              "      <td>2</td>\n",
              "    </tr>\n",
              "    <tr>\n",
              "      <th>Somalia</th>\n",
              "      <td>1</td>\n",
              "      <td>2</td>\n",
              "    </tr>\n",
              "    <tr>\n",
              "      <th>Liberia</th>\n",
              "      <td>1</td>\n",
              "      <td>2</td>\n",
              "    </tr>\n",
              "    <tr>\n",
              "      <th>The Bahamas</th>\n",
              "      <td>1</td>\n",
              "      <td>2</td>\n",
              "    </tr>\n",
              "    <tr>\n",
              "      <th>The Gambia</th>\n",
              "      <td>1</td>\n",
              "      <td>1</td>\n",
              "    </tr>\n",
              "  </tbody>\n",
              "</table>\n",
              "<p>151 rows × 2 columns</p>\n",
              "</div>"
            ],
            "text/plain": [
              "              cases  cum_cases\n",
              "country                       \n",
              "US             6421    1313061\n",
              "France         7699     312488\n",
              "Italy         31506     202336\n",
              "Iran          16169     133472\n",
              "Korea, South   8320     129476\n",
              "...             ...        ...\n",
              "Montenegro        2          2\n",
              "Somalia           1          2\n",
              "Liberia           1          2\n",
              "The Bahamas       1          2\n",
              "The Gambia        1          1\n",
              "\n",
              "[151 rows x 2 columns]"
            ]
          },
          "metadata": {
            "tags": []
          },
          "execution_count": 22
        }
      ]
    },
    {
      "cell_type": "markdown",
      "metadata": {
        "id": "Xo-PosPoE9uK"
      },
      "source": [
        "## 5. Top 7 countries outside China which have the highest confirmed case number in March-2020"
      ]
    },
    {
      "cell_type": "code",
      "metadata": {
        "id": "iruaZ-PIEf1k"
      },
      "source": [
        "cases_top7 = pd.read_csv('datasets/confirmed_cases_top7_outside_china.csv')"
      ],
      "execution_count": 23,
      "outputs": []
    },
    {
      "cell_type": "code",
      "metadata": {
        "colab": {
          "base_uri": "https://localhost:8080/",
          "height": 407
        },
        "id": "aCpmXQ2zEf4D",
        "outputId": "ec356d47-0349-4eca-ef27-714171995862"
      },
      "source": [
        "cases_top7"
      ],
      "execution_count": 24,
      "outputs": [
        {
          "output_type": "execute_result",
          "data": {
            "text/html": [
              "<div>\n",
              "<style scoped>\n",
              "    .dataframe tbody tr th:only-of-type {\n",
              "        vertical-align: middle;\n",
              "    }\n",
              "\n",
              "    .dataframe tbody tr th {\n",
              "        vertical-align: top;\n",
              "    }\n",
              "\n",
              "    .dataframe thead th {\n",
              "        text-align: right;\n",
              "    }\n",
              "</style>\n",
              "<table border=\"1\" class=\"dataframe\">\n",
              "  <thead>\n",
              "    <tr style=\"text-align: right;\">\n",
              "      <th></th>\n",
              "      <th>country</th>\n",
              "      <th>date</th>\n",
              "      <th>cum_cases</th>\n",
              "    </tr>\n",
              "  </thead>\n",
              "  <tbody>\n",
              "    <tr>\n",
              "      <th>0</th>\n",
              "      <td>Germany</td>\n",
              "      <td>2020-02-18</td>\n",
              "      <td>16</td>\n",
              "    </tr>\n",
              "    <tr>\n",
              "      <th>1</th>\n",
              "      <td>Iran</td>\n",
              "      <td>2020-02-18</td>\n",
              "      <td>0</td>\n",
              "    </tr>\n",
              "    <tr>\n",
              "      <th>2</th>\n",
              "      <td>Italy</td>\n",
              "      <td>2020-02-18</td>\n",
              "      <td>3</td>\n",
              "    </tr>\n",
              "    <tr>\n",
              "      <th>3</th>\n",
              "      <td>Korea, South</td>\n",
              "      <td>2020-02-18</td>\n",
              "      <td>31</td>\n",
              "    </tr>\n",
              "    <tr>\n",
              "      <th>4</th>\n",
              "      <td>Spain</td>\n",
              "      <td>2020-02-18</td>\n",
              "      <td>2</td>\n",
              "    </tr>\n",
              "    <tr>\n",
              "      <th>...</th>\n",
              "      <td>...</td>\n",
              "      <td>...</td>\n",
              "      <td>...</td>\n",
              "    </tr>\n",
              "    <tr>\n",
              "      <th>2025</th>\n",
              "      <td>US</td>\n",
              "      <td>2020-03-17</td>\n",
              "      <td>6387</td>\n",
              "    </tr>\n",
              "    <tr>\n",
              "      <th>2026</th>\n",
              "      <td>US</td>\n",
              "      <td>2020-03-17</td>\n",
              "      <td>6387</td>\n",
              "    </tr>\n",
              "    <tr>\n",
              "      <th>2027</th>\n",
              "      <td>US</td>\n",
              "      <td>2020-03-17</td>\n",
              "      <td>6388</td>\n",
              "    </tr>\n",
              "    <tr>\n",
              "      <th>2028</th>\n",
              "      <td>US</td>\n",
              "      <td>2020-03-17</td>\n",
              "      <td>6413</td>\n",
              "    </tr>\n",
              "    <tr>\n",
              "      <th>2029</th>\n",
              "      <td>US</td>\n",
              "      <td>2020-03-17</td>\n",
              "      <td>6421</td>\n",
              "    </tr>\n",
              "  </tbody>\n",
              "</table>\n",
              "<p>2030 rows × 3 columns</p>\n",
              "</div>"
            ],
            "text/plain": [
              "           country        date  cum_cases\n",
              "0          Germany  2020-02-18         16\n",
              "1             Iran  2020-02-18          0\n",
              "2            Italy  2020-02-18          3\n",
              "3     Korea, South  2020-02-18         31\n",
              "4            Spain  2020-02-18          2\n",
              "...            ...         ...        ...\n",
              "2025            US  2020-03-17       6387\n",
              "2026            US  2020-03-17       6387\n",
              "2027            US  2020-03-17       6388\n",
              "2028            US  2020-03-17       6413\n",
              "2029            US  2020-03-17       6421\n",
              "\n",
              "[2030 rows x 3 columns]"
            ]
          },
          "metadata": {
            "tags": []
          },
          "execution_count": 24
        }
      ]
    },
    {
      "cell_type": "code",
      "metadata": {
        "id": "WeNPeNvuEf6d"
      },
      "source": [
        "Countries = list(set(cases_top7['country']))"
      ],
      "execution_count": 25,
      "outputs": []
    },
    {
      "cell_type": "code",
      "metadata": {
        "colab": {
          "base_uri": "https://localhost:8080/"
        },
        "id": "R-EvKDu7GARs",
        "outputId": "8ea4c4f3-bca4-4072-af66-2d131435f0de"
      },
      "source": [
        "Countries"
      ],
      "execution_count": 26,
      "outputs": [
        {
          "output_type": "execute_result",
          "data": {
            "text/plain": [
              "['Spain', 'Italy', 'US', 'Germany', 'Iran', 'Korea, South', 'France']"
            ]
          },
          "metadata": {
            "tags": []
          },
          "execution_count": 26
        }
      ]
    },
    {
      "cell_type": "markdown",
      "metadata": {
        "id": "05G9MKYFJSKV"
      },
      "source": [
        "Visualize the confirmed case number of these countries "
      ]
    },
    {
      "cell_type": "code",
      "metadata": {
        "colab": {
          "base_uri": "https://localhost:8080/",
          "height": 407
        },
        "id": "9JpUGYIWKgDE",
        "outputId": "bd3e6097-b54e-49b5-b3fc-ad69b4c82326"
      },
      "source": [
        "cases_top7"
      ],
      "execution_count": 27,
      "outputs": [
        {
          "output_type": "execute_result",
          "data": {
            "text/html": [
              "<div>\n",
              "<style scoped>\n",
              "    .dataframe tbody tr th:only-of-type {\n",
              "        vertical-align: middle;\n",
              "    }\n",
              "\n",
              "    .dataframe tbody tr th {\n",
              "        vertical-align: top;\n",
              "    }\n",
              "\n",
              "    .dataframe thead th {\n",
              "        text-align: right;\n",
              "    }\n",
              "</style>\n",
              "<table border=\"1\" class=\"dataframe\">\n",
              "  <thead>\n",
              "    <tr style=\"text-align: right;\">\n",
              "      <th></th>\n",
              "      <th>country</th>\n",
              "      <th>date</th>\n",
              "      <th>cum_cases</th>\n",
              "    </tr>\n",
              "  </thead>\n",
              "  <tbody>\n",
              "    <tr>\n",
              "      <th>0</th>\n",
              "      <td>Germany</td>\n",
              "      <td>2020-02-18</td>\n",
              "      <td>16</td>\n",
              "    </tr>\n",
              "    <tr>\n",
              "      <th>1</th>\n",
              "      <td>Iran</td>\n",
              "      <td>2020-02-18</td>\n",
              "      <td>0</td>\n",
              "    </tr>\n",
              "    <tr>\n",
              "      <th>2</th>\n",
              "      <td>Italy</td>\n",
              "      <td>2020-02-18</td>\n",
              "      <td>3</td>\n",
              "    </tr>\n",
              "    <tr>\n",
              "      <th>3</th>\n",
              "      <td>Korea, South</td>\n",
              "      <td>2020-02-18</td>\n",
              "      <td>31</td>\n",
              "    </tr>\n",
              "    <tr>\n",
              "      <th>4</th>\n",
              "      <td>Spain</td>\n",
              "      <td>2020-02-18</td>\n",
              "      <td>2</td>\n",
              "    </tr>\n",
              "    <tr>\n",
              "      <th>...</th>\n",
              "      <td>...</td>\n",
              "      <td>...</td>\n",
              "      <td>...</td>\n",
              "    </tr>\n",
              "    <tr>\n",
              "      <th>2025</th>\n",
              "      <td>US</td>\n",
              "      <td>2020-03-17</td>\n",
              "      <td>6387</td>\n",
              "    </tr>\n",
              "    <tr>\n",
              "      <th>2026</th>\n",
              "      <td>US</td>\n",
              "      <td>2020-03-17</td>\n",
              "      <td>6387</td>\n",
              "    </tr>\n",
              "    <tr>\n",
              "      <th>2027</th>\n",
              "      <td>US</td>\n",
              "      <td>2020-03-17</td>\n",
              "      <td>6388</td>\n",
              "    </tr>\n",
              "    <tr>\n",
              "      <th>2028</th>\n",
              "      <td>US</td>\n",
              "      <td>2020-03-17</td>\n",
              "      <td>6413</td>\n",
              "    </tr>\n",
              "    <tr>\n",
              "      <th>2029</th>\n",
              "      <td>US</td>\n",
              "      <td>2020-03-17</td>\n",
              "      <td>6421</td>\n",
              "    </tr>\n",
              "  </tbody>\n",
              "</table>\n",
              "<p>2030 rows × 3 columns</p>\n",
              "</div>"
            ],
            "text/plain": [
              "           country        date  cum_cases\n",
              "0          Germany  2020-02-18         16\n",
              "1             Iran  2020-02-18          0\n",
              "2            Italy  2020-02-18          3\n",
              "3     Korea, South  2020-02-18         31\n",
              "4            Spain  2020-02-18          2\n",
              "...            ...         ...        ...\n",
              "2025            US  2020-03-17       6387\n",
              "2026            US  2020-03-17       6387\n",
              "2027            US  2020-03-17       6388\n",
              "2028            US  2020-03-17       6413\n",
              "2029            US  2020-03-17       6421\n",
              "\n",
              "[2030 rows x 3 columns]"
            ]
          },
          "metadata": {
            "tags": []
          },
          "execution_count": 27
        }
      ]
    },
    {
      "cell_type": "code",
      "metadata": {
        "colab": {
          "base_uri": "https://localhost:8080/",
          "height": 452
        },
        "id": "1mNFU_xlGAUB",
        "outputId": "cc5e4e50-ff16-4503-bb9d-f350b6064696"
      },
      "source": [
        "import numpy as np\n",
        "fig, ax = plt.subplots(figsize = (15,6))\n",
        "for i in np.arange(len(Countries)):\n",
        "  Ct = Countries[i]\n",
        "  ind = cases_top7['country'] == Ct\n",
        "  ax.plot(cases_top7[\"date\"][ind], cases_top7[\"cum_cases\"][ind], label = Ct)\n",
        "\n",
        "plt.xlabel('Date', fontsize = 16)\n",
        "plt.ylabel('Number of confirmed cases', fontsize = 16)\n",
        "plt.title('Number of cases by time in top 7 countries', fontsize = 20)\n",
        "plt.legend()\n",
        "plt.setp(ax.get_xticklabels(), rotation = 45)\n",
        "plt.show()"
      ],
      "execution_count": 28,
      "outputs": [
        {
          "output_type": "display_data",
          "data": {
            "image/png": "[encoded data removed]",
            "text/plain": [
              "<Figure size 1080x432 with 1 Axes>"
            ]
          },
          "metadata": {
            "tags": [],
            "needs_background": "light"
          }
        }
      ]
    }
  ]
}